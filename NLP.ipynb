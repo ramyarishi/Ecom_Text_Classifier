{
 "cells": [
  {
   "cell_type": "markdown",
   "id": "410ca5c3-9ba0-490a-8f4a-4f05a8217b22",
   "metadata": {},
   "source": [
    "pip install nltk"
   ]
  },
  {
   "cell_type": "code",
   "execution_count": 3,
   "id": "11137404-2ffa-4d66-bb99-2c9f0847b6f2",
   "metadata": {},
   "outputs": [],
   "source": [
    "import nltk"
   ]
  },
  {
   "cell_type": "code",
   "execution_count": 2,
   "id": "54302779-9c70-44b0-9c4e-d8316b583d47",
   "metadata": {},
   "outputs": [
    {
     "name": "stdout",
     "output_type": "stream",
     "text": [
      "showing info https://raw.githubusercontent.com/nltk/nltk_data/gh-pages/index.xml\n"
     ]
    },
    {
     "data": {
      "text/plain": [
       "True"
      ]
     },
     "execution_count": 2,
     "metadata": {},
     "output_type": "execute_result"
    }
   ],
   "source": [
    "nltk.download()"
   ]
  },
  {
   "cell_type": "markdown",
   "id": "08181685-c0b2-40d5-a54a-1f1247265827",
   "metadata": {},
   "source": [
    "# TOKENIZATION\n",
    "**breaking data into parts**"
   ]
  },
  {
   "cell_type": "markdown",
   "id": "3d488c22-5941-4581-87d0-5fea4edd2aea",
   "metadata": {},
   "source": [
    "# example"
   ]
  },
  {
   "cell_type": "code",
   "execution_count": 13,
   "id": "e7be3cd0-c868-4414-869f-2abfc43c913a",
   "metadata": {},
   "outputs": [],
   "source": [
    "paragraph = 'he is a good boy. she is a good girl. boy & girl are good.'"
   ]
  },
  {
   "cell_type": "markdown",
   "id": "f72699ca-f4db-49dd-8313-546aeaf7f772",
   "metadata": {},
   "source": [
    "**sentences tokenization = breaking the data into sentences**"
   ]
  },
  {
   "cell_type": "code",
   "execution_count": 14,
   "id": "4ec13e1b-bba6-4583-a5ba-cdc9c24fc01f",
   "metadata": {},
   "outputs": [
    {
     "data": {
      "text/plain": [
       "['he is a good boy.', 'she is a good girl.', 'boy & girl are good.']"
      ]
     },
     "execution_count": 14,
     "metadata": {},
     "output_type": "execute_result"
    }
   ],
   "source": [
    "sentences = nltk.sent_tokenize(paragraph)\n",
    "sentences"
   ]
  },
  {
   "cell_type": "markdown",
   "id": "ae4df0b8-9805-4465-8d7f-7cf08384d0a0",
   "metadata": {},
   "source": [
    "**word tokenization**"
   ]
  },
  {
   "cell_type": "code",
   "execution_count": 15,
   "id": "789fddf4-6783-4337-be40-ff70d6a1e1ef",
   "metadata": {},
   "outputs": [
    {
     "data": {
      "text/plain": [
       "['he',\n",
       " 'is',\n",
       " 'a',\n",
       " 'good',\n",
       " 'boy',\n",
       " '.',\n",
       " 'she',\n",
       " 'is',\n",
       " 'a',\n",
       " 'good',\n",
       " 'girl',\n",
       " '.',\n",
       " 'boy',\n",
       " '&',\n",
       " 'girl',\n",
       " 'are',\n",
       " 'good',\n",
       " '.']"
      ]
     },
     "execution_count": 15,
     "metadata": {},
     "output_type": "execute_result"
    }
   ],
   "source": [
    "words = nltk.word_tokenize(paragraph)\n",
    "words"
   ]
  },
  {
   "cell_type": "markdown",
   "id": "d8556d38-4fee-4bf3-b6a7-31bef78913c3",
   "metadata": {},
   "source": [
    "# TEXT CLEANING\n",
    "- remove missing values\n",
    "- remove duplicates\n",
    "- remove special characters except space\n",
    "- remove numerical values\n",
    "- remove stop words\n",
    "- stemming or lemmatization"
   ]
  },
  {
   "cell_type": "code",
   "execution_count": 16,
   "id": "7899ad10-8ac2-4983-92f8-606db1ba2f90",
   "metadata": {},
   "outputs": [
    {
     "name": "stdout",
     "output_type": "stream",
     "text": [
      "['he is a good boy ', 'she is a good girl ', 'boy   girl are good ']\n"
     ]
    }
   ],
   "source": [
    "import re\n",
    "corpus = []\n",
    "for i in range(len(sentences)):\n",
    "    l = re.sub('[^a-zA-Z]',\" \",sentences[i])\n",
    "    corpus.append(l)\n",
    "print(corpus)"
   ]
  },
  {
   "cell_type": "markdown",
   "id": "e89429af-3410-4e80-b3c3-7c1b29648207",
   "metadata": {},
   "source": [
    "**list of stopwords in english**"
   ]
  },
  {
   "cell_type": "code",
   "execution_count": 17,
   "id": "a82fabef-ef8d-4be4-a2a7-9fc3326f9dbf",
   "metadata": {},
   "outputs": [
    {
     "data": {
      "text/plain": [
       "['a',\n",
       " 'about',\n",
       " 'above',\n",
       " 'after',\n",
       " 'again',\n",
       " 'against',\n",
       " 'ain',\n",
       " 'all',\n",
       " 'am',\n",
       " 'an',\n",
       " 'and',\n",
       " 'any',\n",
       " 'are',\n",
       " 'aren',\n",
       " \"aren't\",\n",
       " 'as',\n",
       " 'at',\n",
       " 'be',\n",
       " 'because',\n",
       " 'been',\n",
       " 'before',\n",
       " 'being',\n",
       " 'below',\n",
       " 'between',\n",
       " 'both',\n",
       " 'but',\n",
       " 'by',\n",
       " 'can',\n",
       " 'couldn',\n",
       " \"couldn't\",\n",
       " 'd',\n",
       " 'did',\n",
       " 'didn',\n",
       " \"didn't\",\n",
       " 'do',\n",
       " 'does',\n",
       " 'doesn',\n",
       " \"doesn't\",\n",
       " 'doing',\n",
       " 'don',\n",
       " \"don't\",\n",
       " 'down',\n",
       " 'during',\n",
       " 'each',\n",
       " 'few',\n",
       " 'for',\n",
       " 'from',\n",
       " 'further',\n",
       " 'had',\n",
       " 'hadn',\n",
       " \"hadn't\",\n",
       " 'has',\n",
       " 'hasn',\n",
       " \"hasn't\",\n",
       " 'have',\n",
       " 'haven',\n",
       " \"haven't\",\n",
       " 'having',\n",
       " 'he',\n",
       " \"he'd\",\n",
       " \"he'll\",\n",
       " 'her',\n",
       " 'here',\n",
       " 'hers',\n",
       " 'herself',\n",
       " \"he's\",\n",
       " 'him',\n",
       " 'himself',\n",
       " 'his',\n",
       " 'how',\n",
       " 'i',\n",
       " \"i'd\",\n",
       " 'if',\n",
       " \"i'll\",\n",
       " \"i'm\",\n",
       " 'in',\n",
       " 'into',\n",
       " 'is',\n",
       " 'isn',\n",
       " \"isn't\",\n",
       " 'it',\n",
       " \"it'd\",\n",
       " \"it'll\",\n",
       " \"it's\",\n",
       " 'its',\n",
       " 'itself',\n",
       " \"i've\",\n",
       " 'just',\n",
       " 'll',\n",
       " 'm',\n",
       " 'ma',\n",
       " 'me',\n",
       " 'mightn',\n",
       " \"mightn't\",\n",
       " 'more',\n",
       " 'most',\n",
       " 'mustn',\n",
       " \"mustn't\",\n",
       " 'my',\n",
       " 'myself',\n",
       " 'needn',\n",
       " \"needn't\",\n",
       " 'no',\n",
       " 'nor',\n",
       " 'not',\n",
       " 'now',\n",
       " 'o',\n",
       " 'of',\n",
       " 'off',\n",
       " 'on',\n",
       " 'once',\n",
       " 'only',\n",
       " 'or',\n",
       " 'other',\n",
       " 'our',\n",
       " 'ours',\n",
       " 'ourselves',\n",
       " 'out',\n",
       " 'over',\n",
       " 'own',\n",
       " 're',\n",
       " 's',\n",
       " 'same',\n",
       " 'shan',\n",
       " \"shan't\",\n",
       " 'she',\n",
       " \"she'd\",\n",
       " \"she'll\",\n",
       " \"she's\",\n",
       " 'should',\n",
       " 'shouldn',\n",
       " \"shouldn't\",\n",
       " \"should've\",\n",
       " 'so',\n",
       " 'some',\n",
       " 'such',\n",
       " 't',\n",
       " 'than',\n",
       " 'that',\n",
       " \"that'll\",\n",
       " 'the',\n",
       " 'their',\n",
       " 'theirs',\n",
       " 'them',\n",
       " 'themselves',\n",
       " 'then',\n",
       " 'there',\n",
       " 'these',\n",
       " 'they',\n",
       " \"they'd\",\n",
       " \"they'll\",\n",
       " \"they're\",\n",
       " \"they've\",\n",
       " 'this',\n",
       " 'those',\n",
       " 'through',\n",
       " 'to',\n",
       " 'too',\n",
       " 'under',\n",
       " 'until',\n",
       " 'up',\n",
       " 've',\n",
       " 'very',\n",
       " 'was',\n",
       " 'wasn',\n",
       " \"wasn't\",\n",
       " 'we',\n",
       " \"we'd\",\n",
       " \"we'll\",\n",
       " \"we're\",\n",
       " 'were',\n",
       " 'weren',\n",
       " \"weren't\",\n",
       " \"we've\",\n",
       " 'what',\n",
       " 'when',\n",
       " 'where',\n",
       " 'which',\n",
       " 'while',\n",
       " 'who',\n",
       " 'whom',\n",
       " 'why',\n",
       " 'will',\n",
       " 'with',\n",
       " 'won',\n",
       " \"won't\",\n",
       " 'wouldn',\n",
       " \"wouldn't\",\n",
       " 'y',\n",
       " 'you',\n",
       " \"you'd\",\n",
       " \"you'll\",\n",
       " 'your',\n",
       " \"you're\",\n",
       " 'yours',\n",
       " 'yourself',\n",
       " 'yourselves',\n",
       " \"you've\"]"
      ]
     },
     "execution_count": 17,
     "metadata": {},
     "output_type": "execute_result"
    }
   ],
   "source": [
    "from nltk.corpus import stopwords\n",
    "stopwords.words('english')"
   ]
  },
  {
   "cell_type": "markdown",
   "id": "bcad295c-2e92-4fd6-a5d3-93a2b2d8896b",
   "metadata": {},
   "source": [
    "**remove stop words**"
   ]
  },
  {
   "cell_type": "code",
   "execution_count": 18,
   "id": "63ef9df8-ff68-4f3d-aa5e-eee9563f0968",
   "metadata": {},
   "outputs": [
    {
     "name": "stdout",
     "output_type": "stream",
     "text": [
      "['good boy', 'good girl', 'boy girl good']\n"
     ]
    }
   ],
   "source": [
    "corpus = []\n",
    "for i in range(len(sentences)):\n",
    "    rp = re.sub('[^a-zA-Z]',\" \",sentences[i])\n",
    "    rp = rp.lower()\n",
    "    rp = rp.split()\n",
    "    rp = [word for word in rp if not word in set(stopwords.words('english'))]\n",
    "    rp = ' '.join(rp)\n",
    "    corpus.append(rp)\n",
    "print(corpus)"
   ]
  },
  {
   "cell_type": "markdown",
   "id": "4fc828a2-57cf-4c4a-8cc5-8f0caef44099",
   "metadata": {},
   "source": [
    "# stemming"
   ]
  },
  {
   "cell_type": "code",
   "execution_count": 19,
   "id": "94e3579d-4de0-4d81-9084-eb1fb32d7e25",
   "metadata": {},
   "outputs": [
    {
     "data": {
      "text/plain": [
       "'histori'"
      ]
     },
     "execution_count": 19,
     "metadata": {},
     "output_type": "execute_result"
    }
   ],
   "source": [
    "from nltk.stem import PorterStemmer\n",
    "ps = PorterStemmer()\n",
    "ps.stem('history')\n"
   ]
  },
  {
   "cell_type": "markdown",
   "id": "935bf762-6154-4911-a7a2-0f797c35f964",
   "metadata": {},
   "source": [
    "# lemmatization"
   ]
  },
  {
   "cell_type": "code",
   "execution_count": 21,
   "id": "a21e9ded-ef7e-4d6b-a68f-3d37760beab0",
   "metadata": {},
   "outputs": [
    {
     "data": {
      "text/plain": [
       "'history'"
      ]
     },
     "execution_count": 21,
     "metadata": {},
     "output_type": "execute_result"
    }
   ],
   "source": [
    "from nltk.stem import WordNetLemmatizer\n",
    "wnl = WordNetLemmatizer()\n",
    "wnl.lemmatize('history')"
   ]
  },
  {
   "cell_type": "code",
   "execution_count": 22,
   "id": "75631efd-ad3c-42a7-acb9-28b22be3f50a",
   "metadata": {},
   "outputs": [
    {
     "name": "stdout",
     "output_type": "stream",
     "text": [
      "['good boy', 'good girl', 'boy girl good']\n"
     ]
    }
   ],
   "source": [
    "corpus = []\n",
    "for i in range(len(sentences)):\n",
    "    rp = re.sub('[^a-zA-Z]',\" \",sentences[i])\n",
    "    rp = rp.lower()\n",
    "    rp = rp.split()\n",
    "    rp = [ps.stem(word) for word in rp if not word in set(stopwords.words('english'))]\n",
    "    rp = ' '.join(rp)\n",
    "    corpus.append(rp)\n",
    "print(corpus)"
   ]
  },
  {
   "cell_type": "markdown",
   "id": "c1725cd8-3e0f-4655-838d-df0dc5670bb8",
   "metadata": {},
   "source": [
    "# VECTORIZATION\n",
    "**count vectorizer (bag of words)**"
   ]
  },
  {
   "cell_type": "code",
   "execution_count": 24,
   "id": "823f7748-9aa5-4441-9e31-df1462e206d1",
   "metadata": {},
   "outputs": [
    {
     "data": {
      "text/plain": [
       "array([[1, 0, 1],\n",
       "       [0, 1, 1],\n",
       "       [1, 1, 1]], dtype=int64)"
      ]
     },
     "execution_count": 24,
     "metadata": {},
     "output_type": "execute_result"
    }
   ],
   "source": [
    "from sklearn.feature_extraction.text import CountVectorizer\n",
    "cv = CountVectorizer()\n",
    "bow = cv.fit_transform(corpus).toarray()\n",
    "bow"
   ]
  },
  {
   "cell_type": "markdown",
   "id": "89202916-10f5-45c6-8aee-3c3e84515f58",
   "metadata": {},
   "source": [
    "**TF - IDF vectorizer**"
   ]
  },
  {
   "cell_type": "code",
   "execution_count": 26,
   "id": "1008d74f-d7ab-4b5a-ab6c-620a999017f4",
   "metadata": {},
   "outputs": [
    {
     "data": {
      "text/plain": [
       "array([[0.78980693, 0.        , 0.61335554],\n",
       "       [0.        , 0.78980693, 0.61335554],\n",
       "       [0.61980538, 0.61980538, 0.48133417]])"
      ]
     },
     "execution_count": 26,
     "metadata": {},
     "output_type": "execute_result"
    }
   ],
   "source": [
    "from sklearn.feature_extraction.text import TfidfVectorizer\n",
    "tf = TfidfVectorizer()\n",
    "tfidf = tf.fit_transform(corpus).toarray()\n",
    "tfidf"
   ]
  },
  {
   "cell_type": "markdown",
   "id": "4e9959a0-ebcf-4337-9e7d-8c463122bbc8",
   "metadata": {},
   "source": [
    "# parts of speech(tagging)(pos tagging)"
   ]
  },
  {
   "cell_type": "code",
   "execution_count": 27,
   "id": "9f9f857d-f49d-4b32-b839-1a3253b5de16",
   "metadata": {},
   "outputs": [
    {
     "data": {
      "text/plain": [
       "[('i', 'JJ'), ('love', 'VBP'), ('india', 'NN')]"
      ]
     },
     "execution_count": 27,
     "metadata": {},
     "output_type": "execute_result"
    }
   ],
   "source": [
    "text = \"i love india\"\n",
    "words = nltk.word_tokenize(text)\n",
    "\n",
    "nltk.pos_tag(words)"
   ]
  },
  {
   "cell_type": "code",
   "execution_count": 30,
   "id": "d8a74a19-7fc1-4db1-9241-73d551d3ec65",
   "metadata": {},
   "outputs": [
    {
     "name": "stdout",
     "output_type": "stream",
     "text": [
      "JJ: adjective or numeral, ordinal\n",
      "    third ill-mannered pre-war regrettable oiled calamitous first separable\n",
      "    ectoplasmic battery-powered participatory fourth still-to-be-named\n",
      "    multilingual multi-disciplinary ...\n"
     ]
    }
   ],
   "source": [
    "nltk. help.upenn_tagset('JJ')"
   ]
  },
  {
   "cell_type": "code",
   "execution_count": null,
   "id": "e2f01e6d-fb4d-4465-8461-1292e7c644ba",
   "metadata": {},
   "outputs": [],
   "source": []
  }
 ],
 "metadata": {
  "kernelspec": {
   "display_name": "Python 3 (ipykernel)",
   "language": "python",
   "name": "python3"
  },
  "language_info": {
   "codemirror_mode": {
    "name": "ipython",
    "version": 3
   },
   "file_extension": ".py",
   "mimetype": "text/x-python",
   "name": "python",
   "nbconvert_exporter": "python",
   "pygments_lexer": "ipython3",
   "version": "3.12.4"
  }
 },
 "nbformat": 4,
 "nbformat_minor": 5
}
